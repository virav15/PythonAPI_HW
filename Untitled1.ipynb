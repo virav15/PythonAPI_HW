{
 "cells": [
  {
   "cell_type": "code",
   "execution_count": null,
   "metadata": {},
   "outputs": [],
   "source": [
    "# Import dependencies\n",
    "%matplotlib inline\n",
    "import matplotlib.pyplot as plt\n",
    "import pandas as pd\n",
    "import numpy as np\n",
    "import requests\n",
    "import seaborn as sns\n",
    "import time\n",
    "\n",
    "from pprint import pprint"
   ]
  },
  {
   "cell_type": "code",
   "execution_count": null,
   "metadata": {},
   "outputs": [],
   "source": [
    "csv_file = 'Cleaned_Saferparks.csv'\n",
    "clean_data = pd.read_csv(csv_file, sep = '\\t', index_col = None)\n",
    "# clean_data.columns"
   ]
  },
  {
   "cell_type": "code",
   "execution_count": null,
   "metadata": {},
   "outputs": [],
   "source": [
    "#+Feature Age\n",
    "age_labels = ['12 and under', '12-20','21-29', '30-39', '40-49', '50-69', '70 and older']\n",
    "bins = [0, 12, 21, 30, 40, 50, 70, 111]\n",
    "\n",
    "clean_data['Age Groups'] = pd.cut(clean_data['Age'], bins, labels=age_labels)\n",
    "\n",
    "#+Feature Year, Month, and Week Features extracted from Date\n",
    "clean_data[\"Year\"] = clean_data[\"Date\"].map(lambda x: x.split(\"-\")[2])\n",
    "clean_data['Month'] =  [x.split('-')[1] for x in clean_data.loc[:,'Date']]\n",
    "clean_data['Day'] =  [int(x.split('-')[0]) for x in clean_data.loc[:,'Date']]\n",
    "clean_data['Week'] = [1+int(x)//7 for x in clean_data.loc[:,'Day']]"
   ]
  },
  {
   "cell_type": "code",
   "execution_count": null,
   "metadata": {},
   "outputs": [],
   "source": [
    "#Year with most injuries\n",
    "year_most_injuries = clean_data.loc[clean_data[\"Year\"] == \"2001\"]"
   ]
  },
  {
   "cell_type": "code",
   "execution_count": null,
   "metadata": {},
   "outputs": [],
   "source": [
    "count = clean_data.groupby(\"Year\")[\"Injury\"].count()\n",
    "years = clean_data[\"Year\"].unique()\n",
    "figure1 = plt.bar(years, count)\n",
    "plt.title(\"Count of Injuries per Year\")\n",
    "plt.xticks(years, rotation = 'vertical')\n",
    "plt.grid(axis  = 'y')\n",
    "plt.show()"
   ]
  },
  {
   "cell_type": "code",
   "execution_count": null,
   "metadata": {},
   "outputs": [],
   "source": [
    "#Year with most injuries\n",
    "year_most_injuries = clean_data.loc[clean_data[\"Year\"] == \"2001\"]\n",
    "\n",
    "count_cat_yr01=year_most_injuries[\"Category\"].value_counts()#.sort()"
   ]
  },
  {
   "cell_type": "code",
   "execution_count": null,
   "metadata": {},
   "outputs": [],
   "source": [
    "# sorted function only works on local notebook  **CHECKED\n",
    "figure2= plt.bar(count_cat_yr01.index, count_cat_yr01)\n",
    "plt.xticks(count_cat_yr01.index, rotation='vertical')\n",
    "plt.title(\"2001 Injuries\")\n",
    "plt.xlabel(\"Type of Injuries\")\n",
    "plt.ylabel(\"Count of Injuries\")\n",
    "plt.grid(axis  = 'y')\n",
    "plt.show()\n"
   ]
  },
  {
   "cell_type": "code",
   "execution_count": null,
   "metadata": {},
   "outputs": [],
   "source": [
    "count = clean_data.groupby(\"Year\")[\"Injury\"].count()\n",
    "years = clean_data[\"Year\"].unique()\n",
    "figure1 = plt.bar(years, count)\n",
    "plt.title(\"Count of Injuries per Year\")\n",
    "plt.xticks(years, rotation = 'vertical')\n",
    "plt.grid(axis  = 'y')\n",
    "plt.show()\n"
   ]
  },
  {
   "cell_type": "code",
   "execution_count": null,
   "metadata": {},
   "outputs": [],
   "source": [
    "frame = pd.DataFrame({'Injury Count' : clean_data.groupby(\"State\")[\"Injury\"].count()})\n",
    "frame = frame.sort_values(by = ['Injury Count'])\n",
    "\n",
    "plt.bar(frame.index, frame['Injury Count'])\n",
    "plt.xticks(frame.index, rotation='vertical')\n",
    "plt.title(\"States by Injury Count\")\n",
    "plt.xlabel(\"States\")\n",
    "plt.ylabel(\"Count of Injuries\")\n",
    "plt.grid(axis  = 'y')\n",
    "plt.show()"
   ]
  },
  {
   "cell_type": "code",
   "execution_count": null,
   "metadata": {},
   "outputs": [],
   "source": [
    "clean_grouped = clean_data.copy()\n",
    "clean_grouped = clean_grouped.dropna(how='any')\n",
    "\n",
    "clean_grouped = clean_grouped.groupby(['Age', 'State']).count()\n",
    "clean_grouped = clean_grouped.reset_index()\n",
    "\n",
    "cali = clean_grouped.loc[clean_grouped['State'] == 'CA']\n",
    "cali = cali.set_index('Age')\n",
    "\n",
    "florida = clean_grouped.loc[clean_grouped['State'] == 'FL']\n",
    "florida = florida.set_index('Age')\n",
    "\n",
    "texas = clean_grouped.loc[clean_grouped['State'] == 'TX']\n",
    "texas = texas.set_index('Age')\n",
    "\n",
    "jersey = clean_grouped.loc[clean_grouped['State'] == 'NJ']\n",
    "jersey = jersey.set_index('Age')\n",
    "\n",
    "\n",
    "\n",
    "line = clean_data.copy()\n",
    "line = line.dropna(how='any')\n",
    "\n",
    "line = line.groupby(['Year', 'State']).count()\n",
    "line = line.reset_index()\n",
    "\n",
    "cali_line = line.loc[line['State'] == 'CA']\n",
    "cali_line = cali_line.set_index('Year')\n",
    "\n",
    "florida_line = line.loc[line['State'] == 'FL']\n",
    "florida_line = florida_line.set_index('Year')\n",
    "\n",
    "texas_line = line.loc[line['State'] == 'TX']\n",
    "texas_line = texas_line.set_index('Year')\n",
    "\n",
    "jersey_line = line.loc[line['State'] == 'NJ']\n",
    "jersey_line = jersey_line.set_index('Year')"
   ]
  },
  {
   "cell_type": "code",
   "execution_count": null,
   "metadata": {},
   "outputs": [],
   "source": [
    "total_cali = cali['ID'].sum()\n",
    "total_florida = florida['ID'].sum()\n",
    "total_texas = texas['ID'].sum()\n",
    "total_jersey = jersey['ID'].sum()\n",
    "\n",
    "\n",
    "\n",
    "cali_accident_pct = 100 * (cali['ID'] / total_cali)\n",
    "florida_accident_pct = 100 * (florida['ID'] / total_florida)\n",
    "texas_accident_pct = 100 * (texas['ID'] / total_texas)\n",
    "jersey_accident_pct = 100 * (jersey['ID'] / total_jersey)\n",
    "\n",
    "colors = ['coral', 'lightskyblue', 'palegreen', 'gold']\n",
    "\n",
    "plt.scatter(cali_accident_pct.index, cali_accident_pct.values, linewidths=1, c=colors[0], edgecolor='black', alpha=0.6, label='California')\n",
    "plt.scatter(florida_accident_pct.index, florida_accident_pct.values, linewidths=1, c=colors[1], edgecolor='black', alpha=0.6, label='Florida')\n",
    "plt.scatter(texas_accident_pct.index, texas_accident_pct.values, c=colors[2], edgecolor='black', alpha=0.6, label='Texas')\n",
    "plt.scatter(jersey_accident_pct.index, jersey_accident_pct.values, linewidths=1, c=colors[3], edgecolor='black', alpha=0.6, label='New Jersey')\n",
    "\n",
    "plt.title('% of People Injured by Age')\n",
    "plt.xlabel('Age of People Injured')\n",
    "plt.ylabel('% of People Injured')\n",
    "\n",
    "plt.grid(True)\n",
    "\n",
    "plt.legend()\n",
    "\n",
    "plt.show()"
   ]
  },
  {
   "cell_type": "code",
   "execution_count": null,
   "metadata": {},
   "outputs": [],
   "source": [
    "count = clean_data.groupby(\"Year\")[\"Injury\"].count()\n",
    "years = clean_data[\"Year\"].unique()\n",
    "figure1 = plt.bar(years, count)\n",
    "plt.title(\"Count of Injuries per Year\")\n",
    "plt.xticks(years, rotation = 'vertical')\n",
    "plt.grid(axis  = 'y')\n",
    "plt.show()"
   ]
  },
  {
   "cell_type": "code",
   "execution_count": null,
   "metadata": {},
   "outputs": [],
   "source": [
    "total_count = clean_data.groupby(\"Age Groups\")[\"Injury\"].count().sum()\n",
    "age_count=clean_data.groupby(\"Age Groups\")[\"Injury\"].count()/total_count\n",
    "colors = ['#ff0000', '#ffcc00', 'lightskyblue', 'lightcoral',\\\n",
    "         '#990099','#669900','#0099cc']\n",
    "\n",
    "explode=[0.05, 0, 0, 0, 0, 0, 0.1]\n",
    "\n",
    "figure4=plt.pie(age_count, labels=age_labels, explode=explode,\\\n",
    "                colors = colors, autopct=\"%.1f%%\", startangle=45)\n",
    "plt.title(\"% of Injuries per Age Group\", fontweight=\"bold\")\n",
    "plt.axis(\"equal\")\n",
    "\n",
    "\n",
    "# Show Figure\n",
    "plt.show()"
   ]
  },
  {
   "cell_type": "code",
   "execution_count": null,
   "metadata": {},
   "outputs": [],
   "source": [
    "device_count=clean_data[\"Device type\"].value_counts()\n",
    "\n",
    "figure6=plt.bar(device_count.index, device_count)\n",
    "plt.xticks(device_count.index, rotation='vertical')\n",
    "plt.title(\"Injury by Device Type\")\n",
    "plt.xlabel(\"Device Type\")\n",
    "plt.ylabel(\"Count of Injuries\")\n",
    "plt.grid(axis  = 'y')\n",
    "plt.show()\n"
   ]
  },
  {
   "cell_type": "code",
   "execution_count": null,
   "metadata": {},
   "outputs": [],
   "source": [
    "age_in_01 = year_most_injuries.groupby(\"Age Groups\")[\"Injury\"].count().sum()\n",
    "age_01_count = year_most_injuries.groupby(\"Age Groups\")[\"Injury\"].count()/age_in_01\n",
    "\n",
    "explode=[0.05, 0, 0, 0, 0, 0, 0.05]\n",
    "colors = ['#ff0000', '#ffcc00', 'lightskyblue', 'lightcoral',\\\n",
    "         '#990099','#669900','gold']\n",
    "\n",
    "figure5=plt.pie(age_01_count, labels=age_labels, explode=explode, colors=colors, autopct=\"%.1f%%\", startangle=45) \n",
    "plt.title(\"% of Injuries per Age Group in 2001\", fontweight=\"bold\")\n",
    "plt.axis(\"equal\")\n",
    "plt.show"
   ]
  },
  {
   "cell_type": "code",
   "execution_count": null,
   "metadata": {},
   "outputs": [],
   "source": [
    "cd_sorted = clean_data.sort_values(by=['Year'], ascending=True)\n",
    "cd_sorted.head()\n",
    "\n",
    "cd_sorted = cd_sorted.dropna(how='any')\n",
    "cd_sorted.head()\n",
    "\n",
    "test = cd_sorted.groupby(['Year', 'State', 'Age']).count()\n",
    "test = test.reset_index()\n",
    "\n",
    "year_ca = test.loc[test['State'] == 'CA']\n",
    "\n",
    "year_fl = test.loc[test['State'] == 'FL']\n",
    "\n",
    "year_tx = test.loc[test['State'] == 'TX']\n",
    "\n",
    "year_nj = test.loc[test['State'] == 'NJ']\n",
    "\n",
    "df = [year_ca, year_fl, year_tx, year_nj]\n",
    "frames = pd.concat(df)\n",
    "\n",
    "ax = sns.swarmplot(x = 'Year', y = 'Age', data = frames, hue = 'State')\n",
    "ax.set_xticklabels(labels = years.astype(int),rotation= 90)"
   ]
  },
  {
   "cell_type": "code",
   "execution_count": null,
   "metadata": {},
   "outputs": [],
   "source": [
    "frames = frames.loc[frames['Year'] > '1999']\n",
    "ax = sns.swarmplot(x = 'Year', y = 'Age', data = frames, hue = 'State')\n",
    "ax.set_xticklabels(labels = frames['Year'].unique(),rotation=30)"
   ]
  },
  {
   "cell_type": "code",
   "execution_count": null,
   "metadata": {},
   "outputs": [],
   "source": []
  },
  {
   "cell_type": "code",
   "execution_count": null,
   "metadata": {},
   "outputs": [],
   "source": []
  },
  {
   "cell_type": "code",
   "execution_count": null,
   "metadata": {},
   "outputs": [],
   "source": []
  }
 ],
 "metadata": {
  "kernelspec": {
   "display_name": "Python 3",
   "language": "python",
   "name": "python3"
  },
  "language_info": {
   "codemirror_mode": {
    "name": "ipython",
    "version": 3
   },
   "file_extension": ".py",
   "mimetype": "text/x-python",
   "name": "python",
   "nbconvert_exporter": "python",
   "pygments_lexer": "ipython3",
   "version": "3.7.1"
  }
 },
 "nbformat": 4,
 "nbformat_minor": 2
}
